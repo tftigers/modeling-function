import numpy as np
import matplotlib.pyplot as plt
from scipy.stats import linregress
%matplotlib inline

year=np.array([1980,1982,1984,1986,1988,1990,1992,1994,1996,1998,2000])
co2=np.array([338.7,341.4,344.4,347.2,351.5,354.2,356.4,358.9,362.6,366.6,369.4])

X_plot = np.linspace(1975, 2005, 100)
Y_plot = slope*X_plot+intercept
plt.plot(X_plot, Y_plot, color='r')
plt.show()

from sklearn.linear_model import LinearRegression

year1=year.reshape((-1,1))

reg= LinearRegression().fit(year1,co2)

slope=reg.coef_[0]
intercept=reg.intercept_

print(f'The equation of regression line is y={slope:.3f}x+ {intercept:.3f}.')

year1= year.reshape((-1,1))
print(np.shape(year))
print(np.shape(year1))

