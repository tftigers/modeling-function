{
  "nbformat": 4,
  "nbformat_minor": 0,
  "metadata": {
    "colab": {
      "name": "June 4th, 2021- How to write with Jupyter notebook",
      "provenance": [],
      "authorship_tag": "ABX9TyMm/zXv9tlS9PW43fGV2LzP",
      "include_colab_link": true
    },
    "kernelspec": {
      "name": "python3",
      "display_name": "Python 3"
    },
    "language_info": {
      "name": "python"
    }
  },
  "cells": [
    {
      "cell_type": "markdown",
      "metadata": {
        "id": "view-in-github",
        "colab_type": "text"
      },
      "source": [
        "<a href=\"https://colab.research.google.com/github/tftigers/modeling-function/blob/main/How_to_write_with_Jupyter_notebook.ipynb\" target=\"_parent\"><img src=\"https://colab.research.google.com/assets/colab-badge.svg\" alt=\"Open In Colab\"/></a>"
      ]
    },
    {
      "cell_type": "code",
      "metadata": {
        "colab": {
          "base_uri": "https://localhost:8080/"
        },
        "id": "kfp_5FiDybCW",
        "outputId": "59e76bc2-63ee-42d4-e1d7-86adc92ef954"
      },
      "source": [
        "print (\"I like hanshin tigers\")"
      ],
      "execution_count": 7,
      "outputs": [
        {
          "output_type": "stream",
          "text": [
            "I like hanshin tigers\n"
          ],
          "name": "stdout"
        }
      ]
    },
    {
      "cell_type": "code",
      "metadata": {
        "colab": {
          "base_uri": "https://localhost:8080/"
        },
        "id": "zuccMaZcyl-y",
        "outputId": "2d7e4cbb-88d7-47c8-a0ac-aaab62479554"
      },
      "source": [
        "print (\"I hate yomiuri giants\")"
      ],
      "execution_count": 6,
      "outputs": [
        {
          "output_type": "stream",
          "text": [
            "I hate yomiuri giants\n"
          ],
          "name": "stdout"
        }
      ]
    },
    {
      "cell_type": "code",
      "metadata": {
        "colab": {
          "base_uri": "https://localhost:8080/"
        },
        "id": "DJe0dM2ZypSZ",
        "outputId": "c16e94a2-92cb-4e3f-d171-f8555e0b86c8"
      },
      "source": [
        "print (\"teru hates giants\")"
      ],
      "execution_count": 5,
      "outputs": [
        {
          "output_type": "stream",
          "text": [
            "teru hates giants\n"
          ],
          "name": "stdout"
        }
      ]
    }
  ]
}